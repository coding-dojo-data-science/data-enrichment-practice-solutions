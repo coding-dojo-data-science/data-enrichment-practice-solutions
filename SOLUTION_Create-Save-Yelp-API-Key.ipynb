{
 "cells": [
  {
   "cell_type": "markdown",
   "id": "34324de6-7a79-4fb9-860b-05e285e275c4",
   "metadata": {},
   "source": [
    "# Create and Save Your Yelp API Key (Practice)"
   ]
  },
  {
   "cell_type": "markdown",
   "id": "06095d62-bc94-4ebc-a80c-d78723a56492",
   "metadata": {},
   "source": []
  },
  {
   "cell_type": "markdown",
   "id": "cd864ed0-21e6-4efa-a150-94b1297f73d5",
   "metadata": {},
   "source": [
    "## Instructions"
   ]
  },
  {
   "cell_type": "markdown",
   "id": "bce0e063-ae37-4de9-b514-9fa6e6aa43d9",
   "metadata": {},
   "source": [
    "<p></p>\n",
    "<p>While this assignment is optional, you can use the notebook &amp; repository created in this practice assignment as a starting point for your first Core assignment.</p>\n",
    "<ul><li>Follow the instructions from the previous 2 lessons to get your Yelp Fusion API credentials. </li><li>Save them locally in a yelp-api.json file located in a \".secret/\" folder inside your user folder. </li><li>Create a new repository with GitHub desktop. </li><li>Load in your API credentials using the JSON module and display what keys are in the dictionary.<ul><li>  DO NOT DISPLAY THE VALUES OF THIS DICTIONARY!!!</li></ul></li><li>Save, commit, and push your work to GitHub.</li></ul>\n",
    "<p><br></p>\n",
    "<p><br></p>"
   ]
  },
  {
   "cell_type": "markdown",
   "id": "068d5c64-fdde-4716-a798-2ae2b116e90b",
   "metadata": {},
   "source": [
    "# SOLUTION"
   ]
  },
  {
   "cell_type": "markdown",
   "id": "6e7dc99d-8899-4016-bd00-5455e6530f5f",
   "metadata": {},
   "source": [
    "### Sign up for Yelp API and get credentials\n",
    "- Navigate to the [Yelp Fusion API](https://www.yelp.com/developers/documentation/v3/get_started) \n",
    "\n",
    "- Sign up for the Yelp API and Create Your App\n",
    "\n",
    "    - Follow the steps under the \"How do I get the Yelp API Key?\" header in this linked article:\n",
    "      - https://elfsight.com/blog/2020/11/how-to-get-and-use-yelp-api/\n",
    "    - You will need the information displayed on the My App page at the end of this process.\n",
    "      - Specifically:\n",
    "        - Your client-id\n",
    "        - Your API-Key\n",
    "\n",
    "    ![png](https://elfsight.com/wp-content/uploads/2020/11/yelp6.jpg) [Image Source](https://elfsight.com/blog/2020/11/how-to-get-and-use-yelp-api/)\n",
    "    \n",
    "    \n",
    "### Save Your API Credentials Privately\n",
    "\n",
    "- Since our API-Keys are attached to our individual accounts and we are allotted a maximum number of API calls per day/month, it is very important not to publicly display our API credentials publicly, especially in our project repositories.\n",
    "- To prevent this, we are going to be creating a new hidden folder in your User folder called `.secret/`.\n",
    "\n",
    "1. Open your terminal/gitbash and navigate to your user folder.\n",
    "\n",
    "```\n",
    "cd ~ \n",
    "# or\n",
    "cd /Users/your-username/\n",
    "```\n",
    "\n",
    "1. Type `pwd` to confirm you are in the right folder.\n",
    "\n",
    "   - You can double-check by running\n",
    "\n",
    "      \n",
    "\n",
    "     ```\n",
    "     ls\n",
    "     ```\n",
    "\n",
    "     , which will list all of the files in the folder.\n",
    "\n",
    "     - This should include your:\n",
    "       - Documents\n",
    "       - Downloads\n",
    "       - Desktop\n",
    "       - etc.\n",
    "\n",
    "2. After confirming you are in the User folder, create a new hidden folder called `.secret`.\n",
    "\n",
    "```\n",
    "mkdir .secret\n",
    "```\n",
    "\n",
    "- Note: if you already have this folder, you will get an error message that the file exists. This is fine! Just move on to the next step.\n",
    "- If this is a new folder, you won't see anything happen. Just move on to the next step.\n",
    "\n",
    "1. Next, we will \"change directories\" (cd) into the .secrets folder. This is the terminal's way of opening a folder.\n",
    "\n",
    "```\n",
    "cd .secret\n",
    "```\n",
    "\n",
    "1. Create a new empty JSON file called \"yelp_api.json,\" and then open it in VS Code.\n",
    "\n",
    "- \"touch\" is the command that will create a new (empty) file. Note that the file is created in whichever directory (folder )you are currently in). In this case, we are creating a file in our new .secrets folder.\n",
    "- \"code\" is a terminal command that will open the file specified file in VS Code.\n",
    "\n",
    "\n",
    "\n",
    "\n",
    "```\n",
    "touch yelp_api.json\n",
    "code yelp_api.json\n",
    "```\n",
    "\n",
    "You should see a new empty JSON file open in VS Code, like the screenshot below:\n",
    "\n",
    "![img](https://assets.codingdojo.com/boomyeah2015/codingdojo/curriculum/content/chapter/1648576894__json_file_empty.png)\n",
    "\n",
    "1. In the empty yelp_api file, you want to create a dictionary using {}. Save your API-Key and Client-ID from the screenshot at the top of this lesson as two different keys in your dictionary. (use your unique codes!)\n",
    "   1. Important Note: when creating a .json file in a text editor, you can only use double quotes. Single quotes will cause an error when you attempt to load the file with Python.\n",
    "   \n",
    "```python\n",
    "{\n",
    "    \"client-id\" : \"copy your code here\",\n",
    "    \"api-key\" : \"copy your code here\"\n",
    "}\n",
    "```"
   ]
  },
  {
   "cell_type": "code",
   "execution_count": 1,
   "id": "24979baa-60f1-4507-af26-cf55eed13c01",
   "metadata": {},
   "outputs": [
    {
     "data": {
      "text/plain": [
       "dict_keys(['client-id', 'api-key'])"
      ]
     },
     "execution_count": 1,
     "metadata": {},
     "output_type": "execute_result"
    }
   ],
   "source": [
    "import json\n",
    "with open('/Users/codingdojo/.secret/yelp_api.json') as f: #change the path to match YOUR path!!\n",
    "    login = json.load(f)\n",
    "login.keys()"
   ]
  }
 ],
 "metadata": {
  "kernelspec": {
   "display_name": "Python (dojo-env-ds)",
   "language": "python",
   "name": "dojo-env-ds"
  },
  "language_info": {
   "codemirror_mode": {
    "name": "ipython",
    "version": 3
   },
   "file_extension": ".py",
   "mimetype": "text/x-python",
   "name": "python",
   "nbconvert_exporter": "python",
   "pygments_lexer": "ipython3",
   "version": "3.10.10"
  }
 },
 "nbformat": 4,
 "nbformat_minor": 5
}
