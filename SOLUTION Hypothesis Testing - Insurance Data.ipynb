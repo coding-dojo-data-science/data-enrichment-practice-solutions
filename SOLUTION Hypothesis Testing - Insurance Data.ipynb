{
 "cells": [
  {
   "cell_type": "markdown",
   "id": "52cc3647",
   "metadata": {
    "id": "52cc3647"
   },
   "source": [
    "# Hypothesis Testing with Insurance Data (Practice)\n"
   ]
  },
  {
   "cell_type": "markdown",
   "id": "2b0b0d50-9755-40fe-9a05-42034b928fe0",
   "metadata": {},
   "source": [
    "## Instructions"
   ]
  },
  {
   "cell_type": "markdown",
   "id": "21eb12bb-4a43-41a7-8879-4be1b93a5f23",
   "metadata": {},
   "source": [
    "<p>For this assignment, we will be working with the <a href=\"https://drive.google.com/file/d/1zkcVqin1DV7ym7DFPVovCCsqkoiDZs-6/view?usp=sharing\" target=\"_blank\">US Health Insurance Dataset</a> (originally from <a href=\"https://www.kaggle.com/teertha/ushealthinsurancedataset\" target=\"_blank\">Kaggle</a>).</p>\n",
    "<p>We have been asked to use our hypothesis testing skills to answer the following questions:</p>\n",
    "<p>- Q1. Do smokers have higher insurance charges than non-smokers?<br>- Q2. Are men more likely to smoke than women?<br>- Q3. Do different regions have different charges, on average?<br></p>\n",
    "<p><br></p>\n",
    "<p>For each question, make sure to:</p>\n",
    "<ol><li>State your Null Hypothesis and Alternative Hypothesis</li><li>Select the correct test according to the data type and number of samples</li><li>Test the assumptions of your selected test.</li><li>Execute the selected test, or the alternative test (if you do not meet the assumptions)</li><li>Interpret your p-value and reject or fail to reject your null hypothesis </li><li>Show a supporting visualization that helps display the result</li></ol>\n",
    "<p><br></p>\n",
    "<p><br></p>"
   ]
  },
  {
   "cell_type": "markdown",
   "id": "879aeff2-cc8e-4985-b8ac-ff12b479301d",
   "metadata": {},
   "source": [
    "# Reference: Guide-Choosing the Right Hypothesis Test"
   ]
  },
  {
   "cell_type": "markdown",
   "id": "11766192-862f-4903-8c17-3fd65a8f4c2a",
   "metadata": {},
   "source": [
    "## STEP 1: Stating our Hypothesis"
   ]
  },
  {
   "cell_type": "markdown",
   "id": "d17486a6-4990-4b5a-8b98-9ed129c9231c",
   "metadata": {},
   "source": [
    "- **Before selecting the correct hypothesis test, you must first officially state your null hypothesis and alternative hypothesis. You should also define your** **significance** **value (alpha).**\n",
    "- **Before stating your hypotheses, ask yourself**\n",
    "  1. What question am I attempting to answer?\n",
    "  2. What metric/value do I want to measure to answer this question?\n",
    "  3. Do I expect the groups to be different in a specific way? (i.e., one group is greater than the other).\n",
    "     - Or do I just think they'll be different but don't know how?\n",
    "- **Now formally declare your hypotheses after asking yourself the questions above:**"
   ]
  },
  {
   "cell_type": "markdown",
   "id": "7e68a402-0ea5-4d2b-9cdf-49f7f141a8a5",
   "metadata": {},
   "source": [
    "## STEP 2: Determine the category/type of test based on your data."
   ]
  },
  {
   "cell_type": "markdown",
   "id": "cf0efdb2-9e99-474e-b2aa-28624e72f041",
   "metadata": {},
   "source": [
    "- **Q1: What type of data do I have:**\n",
    "  - Numeric?\n",
    "  - Categorical?\n",
    "- **Q2: How many samples/groups am I comparing?**\n",
    "  - 1 sample vs. a known quantity?\n",
    "    - Example: comparing our 1 potential alien height against the population.\n",
    "  - 2 samples/groups:\n",
    "    - Example: Comparing the effect of Drug A vs. the effect of a Placebo.\n",
    "  - More than 2 samples/groups:\n",
    "    - Example: results of 3 different diets\n",
    "\n",
    "Use the table below to look up the correct test according to your answers\n",
    "\n",
    "- Use the table below to look up the correct test according to your answers\n",
    "\n",
    "| What type of comparison?         | Numeric Data       | Categorical Data |\n",
    "| -------------------------------- | ------------------ | ---------------- |\n",
    "| Sample vs. Known Quantity/Target | 1 Sample T-Test    | Binomial Test    |\n",
    "| 2 Samples                        | 2 Sample T-Test    | Chi-Square       |\n",
    "| More than 2                      | ANOVA and/or Tukey | Chi-Square       |"
   ]
  },
  {
   "cell_type": "markdown",
   "id": "9408cc4d-28d0-4596-8c61-61ceaf803f51",
   "metadata": {},
   "source": [
    "## STEP 3: Does the data meet the assumptions of the selected test?"
   ]
  },
  {
   "cell_type": "markdown",
   "id": "85c1690b-c250-4938-82ea-aa4f2ed52bd3",
   "metadata": {},
   "source": [
    "### ASSUMPTIONS SUMMARY"
   ]
  },
  {
   "cell_type": "markdown",
   "id": "2918f2cf-beec-4ec8-ad50-f718a5dfb086",
   "metadata": {},
   "source": [
    "- [One-Sample T-Test](https://statistics.laerd.com/spss-tutorials/one-sample-t-test-using-spss-statistics.php)\n",
    "  - No significant outliers\n",
    "  - Normality\n",
    "- [Independent t-test (2-sample)](https://statistics.laerd.com/statistical-guides/independent-t-test-statistical-guide.php)\n",
    "  - No significant outliers\n",
    "  - Normality\n",
    "  - Equal Variance\n",
    "- [One Way ANOVA](https://statistics.laerd.com/spss-tutorials/one-way-anova-using-spss-statistics.php)\n",
    "  - No significant outliers\n",
    "  - Equal variance\n",
    "  - Normality\n",
    "- [Binomial Test](https://statistics.laerd.com/spss-tutorials/binomial-test-using-spss-statistics.php)\n",
    "  - There are 2 possible outcomes: success and failure.\n",
    "  - The probability of success is constant.\n",
    "  - The trials are independent.\n",
    "- [Chi-Square test](https://statistics.laerd.com/spss-tutorials/chi-square-test-for-association-using-spss-statistics.php)\n",
    "  - There are two categorical variables (ordinal or nominal)\n",
    "  - The outcomes are independent."
   ]
  },
  {
   "cell_type": "markdown",
   "id": "9c8a32b2-a4e2-4365-b87c-b7c09383c8fa",
   "metadata": {},
   "source": [
    "### HOW TO: TEST ASSUMPTIONS AND SELECT THE CORRECT TEST\n",
    "\n",
    "#### 0. Check for & Remove Outliers\n",
    "\n",
    "- Required for 1-sample t-test and ANOVA.\n",
    "- Use one of the two methods below to identify outliers:\n",
    "  - Use Tukey's interquartile range rule.\n",
    "  - Use the absolute value of Z-scores >3 as a rule.\n",
    "\n",
    "#### 1. **Test Assumption of Normality**\n",
    "\n",
    "- Use either of the following tests to determine if your data is normally distributed:\n",
    "  - D'Agostino-Pearson's normality test `scipy.stats.normaltest`\n",
    "  - Shapiro-Wilk Test (if n <20) `scipy.stats.shapiro`\n",
    "- **Outcome A: if your data IS normally distributed:**\n",
    "  - Move onto assumption #2: testing the assumption of equal variance.\n",
    "- **Outcome B: If your data is NOT normally distributed:**\n",
    "  - If your group sizes (n) are large enough, we can safely ignore the normality assumption.\n",
    "    - See the table below for the sample size guidelines:\n",
    "\n",
    "| Parametric Test | Sample size guidelines for non-normal data                   |\n",
    "| --------------- | ------------------------------------------------------------ |\n",
    "| 1-sample t-test | Greater than 20                                              |\n",
    "| 2-sample t-test | Each group should be greater than 15                         |\n",
    "| One-Way ANOVA   | If there are 2-9 groups, each group n >= 15. If there are 10-12 groups, each group n>20. |\n",
    "\n",
    "\n",
    "\n",
    "- Outcome B1: if your N is large enough to ignore the assumption of normality:\n",
    "\n",
    "  - Move onto assumption #2: testing the assumption of equal variance.\n",
    "\n",
    "- Outcome B2: if your N is NOT large enough:\n",
    "\n",
    "  :\n",
    "\n",
    "  - You should not run the selected test.\n",
    "  - Move onto step 3: selecting the non-parametric equivalent test.\n",
    "\n",
    "#### 2. **Test Assumption of Equal Variance**\n",
    "\n",
    "- Levene's Test `scipy.stats.levene`\n",
    "\n",
    "- **If you pass the assumption of equal variance:**\n",
    "\n",
    "- - Use the regular 2-sample t-test (or ANOVA).\n",
    "  - See the Final Summary Table at the bottom for the function to use.\n",
    "\n",
    "- **If you fail the assumption of equal variance:**\n",
    "\n",
    "  - If you wanted to run a 2-sample T-Test:\n",
    "    - Use a Welch's T-Test.\n",
    "    - for scipy, add `equal_var=False` to `ttest_ind`\n",
    "  - If you wanted to do a different test:\n",
    "    - See 3. Select a non-parametric equivalent of your test\n",
    "\n",
    "#### 3. **Select a non-parametric equivalent of your test.**\n",
    "\n",
    "- **Select the test from the right Nonparametric column that matches your original Parametric test.**\n",
    "- The nonparametric test functions are used the same way as the parametric test. No other changes needed\n",
    "- For more information, see: [Choosing Between Parametric and Non-Parametric Tests](https://blog.minitab.com/blog/adventures-in-statistics-2/choosing-between-a-nonparametric-test-and-a-parametric-test).\n",
    "\n",
    "### Summary Table - Hypothesis Testing Functions\n",
    "\n",
    "- All functions below are located in the stats module of Scipy. See this cheat sheet for more info on each of them [cheatsheet: Hypothesis Testing with Scipy](https://drive.google.com/open?id=1EY4UCg20HawWlWa50M2tFauoKBQcFFAW)\n",
    "\n",
    "```\n",
    "from scipy import stats\n",
    "copy\n",
    "```\n",
    "\n",
    "| Parametric tests (means) | Function                   | Nonparametric tests (medians) | Function                     |\n",
    "| ------------------------ | -------------------------- | ----------------------------- | ---------------------------- |\n",
    "| **1-sample t-test**      | `stats.ttest_1samp()`      | **1-sample Wilcoxon**         | `scipy.stats.wilcoxon`       |\n",
    "| **2-sample t-test**      | `stats.ttest_ind()`        | **Mann-Whitney U test**       | `scipy.stats.mannwhitneyu()` |\n",
    "| **One-Way ANOVA**        | `stats.f_oneway()`         | **Kruskal-Wallis**            | `stats.kruskal`              |\n",
    "| **Binomial test**        | `stats.binom_test()`       | N/A                           | N/A                          |\n",
    "| **Chi-Square test**      | `stats.chi2_contingency()` | N/A                           | N/A                          |\n",
    "\n",
    "## STEP 4: Perform the Test & Interpret the Result\n",
    "\n",
    "- Perform a hypothesis test from the summary table above to get your p-value.\n",
    "- If the p-value is > alpha:\n",
    "  - We fail to reject the null hypothesis. There is no significant difference between groups.\n",
    "\n",
    "\n",
    "\n",
    "- **If the p-value is < alpha:**\n",
    "  - Reject the null hypothesis. There is a significant difference between groups. We have supported the alternative hypothesis.\n",
    "  - If you have multiple groups (i.e., ANOVA, Kruskal-Wallis), see Step 4: Post-Hoc Tests in order to determine which groups were different.\n",
    "\n",
    "\n",
    "\n",
    "## STEP 5: Post-hoc multiple comparison tests (if needed)\n",
    "\n",
    "- Our p-value indicated there WAS a significant difference between groups, but we don't know WHICH groups yet.\n",
    "- We must run a pairwise Tukey's test to know which groups were significantly different.\n",
    "- Tukey pairwise comparison test\n",
    "  - `statsmodels.stats.multicomp.pairwise_tukeyhsd`\n",
    "- Tukey's test will run separate tests on pair of groups to get a separate p-value for each. But it does it in a smart way that prevents false positives.\n",
    "\n",
    "## Summary\n",
    "\n",
    "This lesson provides an overview of hypothesis testing and talks through the process required to select the appropriate test. You may wish to refer to this page as a reference when you plan a hypothesis test."
   ]
  },
  {
   "cell_type": "markdown",
   "id": "1da41d43-4f18-41b0-85c6-a1ecaa96f304",
   "metadata": {},
   "source": [
    "# Solution"
   ]
  },
  {
   "cell_type": "code",
   "execution_count": 1,
   "id": "960a59c5",
   "metadata": {
    "id": "960a59c5"
   },
   "outputs": [],
   "source": [
    "## import the standard packages\n",
    "import pandas as pd\n",
    "import numpy as np\n",
    "import seaborn as sns\n",
    "import matplotlib.pyplot as plt\n",
    "\n",
    "\n",
    "## import hypothesis testing functions\n",
    "from scipy import stats"
   ]
  },
  {
   "cell_type": "code",
   "execution_count": 2,
   "id": "e2f68980",
   "metadata": {
    "colab": {
     "base_uri": "https://localhost:8080/",
     "height": 456
    },
    "executionInfo": {
     "elapsed": 1674,
     "status": "ok",
     "timestamp": 1655232006962,
     "user": {
      "displayName": "James Irving",
      "userId": "07032743932305917350"
     },
     "user_tz": 240
    },
    "id": "e2f68980",
    "outputId": "7aca99b9-fb1c-45e4-c53c-e218e51bc1e5"
   },
   "outputs": [
    {
     "data": {
      "text/html": [
       "<div>\n",
       "<style scoped>\n",
       "    .dataframe tbody tr th:only-of-type {\n",
       "        vertical-align: middle;\n",
       "    }\n",
       "\n",
       "    .dataframe tbody tr th {\n",
       "        vertical-align: top;\n",
       "    }\n",
       "\n",
       "    .dataframe thead th {\n",
       "        text-align: right;\n",
       "    }\n",
       "</style>\n",
       "<table border=\"1\" class=\"dataframe\">\n",
       "  <thead>\n",
       "    <tr style=\"text-align: right;\">\n",
       "      <th></th>\n",
       "      <th>age</th>\n",
       "      <th>sex</th>\n",
       "      <th>bmi</th>\n",
       "      <th>children</th>\n",
       "      <th>smoker</th>\n",
       "      <th>region</th>\n",
       "      <th>charges</th>\n",
       "    </tr>\n",
       "  </thead>\n",
       "  <tbody>\n",
       "    <tr>\n",
       "      <th>0</th>\n",
       "      <td>19</td>\n",
       "      <td>female</td>\n",
       "      <td>27.900</td>\n",
       "      <td>0</td>\n",
       "      <td>yes</td>\n",
       "      <td>southwest</td>\n",
       "      <td>16884.92400</td>\n",
       "    </tr>\n",
       "    <tr>\n",
       "      <th>1</th>\n",
       "      <td>18</td>\n",
       "      <td>male</td>\n",
       "      <td>33.770</td>\n",
       "      <td>1</td>\n",
       "      <td>no</td>\n",
       "      <td>southeast</td>\n",
       "      <td>1725.55230</td>\n",
       "    </tr>\n",
       "    <tr>\n",
       "      <th>2</th>\n",
       "      <td>28</td>\n",
       "      <td>male</td>\n",
       "      <td>33.000</td>\n",
       "      <td>3</td>\n",
       "      <td>no</td>\n",
       "      <td>southeast</td>\n",
       "      <td>4449.46200</td>\n",
       "    </tr>\n",
       "    <tr>\n",
       "      <th>3</th>\n",
       "      <td>33</td>\n",
       "      <td>male</td>\n",
       "      <td>22.705</td>\n",
       "      <td>0</td>\n",
       "      <td>no</td>\n",
       "      <td>northwest</td>\n",
       "      <td>21984.47061</td>\n",
       "    </tr>\n",
       "    <tr>\n",
       "      <th>4</th>\n",
       "      <td>32</td>\n",
       "      <td>male</td>\n",
       "      <td>28.880</td>\n",
       "      <td>0</td>\n",
       "      <td>no</td>\n",
       "      <td>northwest</td>\n",
       "      <td>3866.85520</td>\n",
       "    </tr>\n",
       "  </tbody>\n",
       "</table>\n",
       "</div>"
      ],
      "text/plain": [
       "   age     sex     bmi  children smoker     region      charges\n",
       "0   19  female  27.900         0    yes  southwest  16884.92400\n",
       "1   18    male  33.770         1     no  southeast   1725.55230\n",
       "2   28    male  33.000         3     no  southeast   4449.46200\n",
       "3   33    male  22.705         0     no  northwest  21984.47061\n",
       "4   32    male  28.880         0     no  northwest   3866.85520"
      ]
     },
     "metadata": {},
     "output_type": "display_data"
    },
    {
     "name": "stdout",
     "output_type": "stream",
     "text": [
      "<class 'pandas.core.frame.DataFrame'>\n",
      "RangeIndex: 1338 entries, 0 to 1337\n",
      "Data columns (total 7 columns):\n",
      " #   Column    Non-Null Count  Dtype  \n",
      "---  ------    --------------  -----  \n",
      " 0   age       1338 non-null   int64  \n",
      " 1   sex       1338 non-null   object \n",
      " 2   bmi       1338 non-null   float64\n",
      " 3   children  1338 non-null   int64  \n",
      " 4   smoker    1338 non-null   object \n",
      " 5   region    1338 non-null   object \n",
      " 6   charges   1338 non-null   float64\n",
      "dtypes: float64(2), int64(2), object(3)\n",
      "memory usage: 73.3+ KB\n"
     ]
    }
   ],
   "source": [
    "# Load in the insurance.csv in the data folder and display preview\n",
    "df = pd.read_csv(\"Data/insurance.csv\")\n",
    "display(df.head())\n",
    "df.info()"
   ]
  },
  {
   "cell_type": "markdown",
   "id": "7ed94041-751c-45a3-9d81-5832a7f3cb47",
   "metadata": {},
   "source": [
    "##  Q1. Do smokers have higher insurance charges than non-smokers?"
   ]
  },
  {
   "cell_type": "markdown",
   "id": "c50184b9-2879-42be-8441-98f712eac015",
   "metadata": {},
   "source": [
    "### State the Hypothesis & Null Hypothesis "
   ]
  },
  {
   "cell_type": "markdown",
   "id": "fa31ccaf",
   "metadata": {
    "id": "fa31ccaf"
   },
   "source": [
    "\n",
    "\n",
    "- Null Hypothesis ($H_0$): There is no difference in charges for smokers vs. nonsmokers\n",
    "- Alternative Hypothesis ($H_A$): There is a difference in charges for smokers vs. non\n",
    "- Alpha:  0.05"
   ]
  },
  {
   "cell_type": "markdown",
   "id": "5d587bc1-7e8f-4a57-9bde-d78e41675859",
   "metadata": {},
   "source": [
    "### Selecting the Correct Hypothesis Test"
   ]
  },
  {
   "cell_type": "markdown",
   "id": "962bad23-2f8a-4496-ac89-3fdfd05167f3",
   "metadata": {},
   "source": [
    "Based upon the [Choosing the Right Hypothesis Test workflow from  the LP]( https://login.codingdojo.com/m/689/16351/121313):\n",
    "\n",
    "- What type of data? Numeric/Categorical?\n",
    "    - Numeric (insurance charges)\n",
    "    \n",
    "    \n",
    "- What type of comparison?\n",
    "    - 2 groups/samples\n",
    "    \n",
    "- Therefore the correct test is:     \n",
    "    - 2-sample t-test, A.K.A. an independent t-test.\n",
    "\n",
    "\n",
    "\n",
    "- **Assumptions of 2-sample T-Test:** \n",
    "    - No significant outliers\n",
    "    - Normality\n",
    "    - Equal Variance"
   ]
  },
  {
   "cell_type": "code",
   "execution_count": 3,
   "id": "99a1c7e7",
   "metadata": {
    "colab": {
     "base_uri": "https://localhost:8080/"
    },
    "executionInfo": {
     "elapsed": 4,
     "status": "ok",
     "timestamp": 1655232006963,
     "user": {
      "displayName": "James Irving",
      "userId": "07032743932305917350"
     },
     "user_tz": 240
    },
    "id": "99a1c7e7",
    "outputId": "e48e7895-57a0-45e1-f9a2-9c2c7db4cf19"
   },
   "outputs": [
    {
     "data": {
      "text/plain": [
       "no     1064\n",
       "yes     274\n",
       "Name: smoker, dtype: int64"
      ]
     },
     "execution_count": 3,
     "metadata": {},
     "output_type": "execute_result"
    }
   ],
   "source": [
    "df['smoker'].value_counts()"
   ]
  },
  {
   "cell_type": "code",
   "execution_count": 4,
   "id": "6b157675",
   "metadata": {
    "id": "6b157675"
   },
   "outputs": [],
   "source": [
    "# filter into groups based on smokers or not\n",
    "smokers = df.loc[df['smoker'] == 'yes'].copy()\n",
    "non = df.loc[df['smoker'] == 'no'].copy()"
   ]
  },
  {
   "cell_type": "code",
   "execution_count": 5,
   "id": "1604f8b3",
   "metadata": {
    "id": "1604f8b3"
   },
   "outputs": [],
   "source": [
    "smokers_charge = smokers['charges']\n",
    "non_charge = non['charges']"
   ]
  },
  {
   "cell_type": "code",
   "execution_count": 6,
   "id": "6b16a635",
   "metadata": {
    "colab": {
     "base_uri": "https://localhost:8080/",
     "height": 708
    },
    "executionInfo": {
     "elapsed": 1623,
     "status": "ok",
     "timestamp": 1655232008583,
     "user": {
      "displayName": "James Irving",
      "userId": "07032743932305917350"
     },
     "user_tz": 240
    },
    "id": "6b16a635",
    "outputId": "d98b1fe3-07e0-4dd7-9481-da12b23014fe"
   },
   "outputs": [
    {
     "data": {
      "image/png": "[encoded data removed]",
      "text/plain": [
       "<Figure size 800x400 with 2 Axes>"
      ]
     },
     "metadata": {},
     "output_type": "display_data"
    }
   ],
   "source": [
    "## Visualizing Sample means\n",
    "fig, (ax,ax_bar) = plt.subplots(figsize= (8,4), ncols=2,\n",
    "                                constrained_layout=True,\n",
    "                                gridspec_kw={'width_ratios':[0.8,0.2]})\n",
    "\n",
    "\n",
    "# Histogram\n",
    "ax = sns.histplot(data=df, x='charges',fill=True,hue='smoker',kde=True,\n",
    "                  stat='density',common_norm=False,ax=ax)\n",
    "\n",
    "ax.axvline(np.mean(smokers_charge), ls='--',lw=3,\n",
    "           label=f\"Smokers (Mean={np.mean(smokers_charge):.2f})\",color='orange')\n",
    "\n",
    "ax.axvline(np.mean(non_charge), ls='--', lw=3,\n",
    "           label=f\"Non-Smokers (Mean={np.mean(non_charge):.2f})\",color='black')\n",
    "\n",
    "ax.legend(prop={\"size\":14}, loc='upper right')#bbox_to_anchor=[1,1])\n",
    "## Barplot\n",
    "sns.barplot(data=df, x='smoker',y='charges',ax = ax_bar)\n",
    "fig.suptitle('Charges for smokers vs. nons-smokers',fontsize='xx-large');"
   ]
  },
  {
   "cell_type": "markdown",
   "id": "dee9000c-cdaa-4a00-9fa7-499feabac3d9",
   "metadata": {},
   "source": [
    "### Check Test Assumptions"
   ]
  },
  {
   "cell_type": "markdown",
   "id": "cd61d8ce-e855-46cc-b993-0f683b47da82",
   "metadata": {},
   "source": [
    "#### No Outliers"
   ]
  },
  {
   "cell_type": "code",
   "execution_count": 7,
   "id": "145fff9f",
   "metadata": {
    "colab": {
     "base_uri": "https://localhost:8080/"
    },
    "executionInfo": {
     "elapsed": 11,
     "status": "ok",
     "timestamp": 1655232008584,
     "user": {
      "displayName": "James Irving",
      "userId": "07032743932305917350"
     },
     "user_tz": 240
    },
    "id": "145fff9f",
    "outputId": "4b3932f1-159d-40f9-abfb-223689fff5af"
   },
   "outputs": [
    {
     "data": {
      "text/plain": [
       "0"
      ]
     },
     "execution_count": 7,
     "metadata": {},
     "output_type": "execute_result"
    }
   ],
   "source": [
    "# Find and remove outliers for smokers\n",
    "zscores= stats.zscore(smokers_charge)\n",
    "outliers = abs(zscores)>3\n",
    "np.sum(outliers)"
   ]
  },
  {
   "cell_type": "code",
   "execution_count": 8,
   "id": "c98572f1",
   "metadata": {
    "colab": {
     "base_uri": "https://localhost:8080/"
    },
    "executionInfo": {
     "elapsed": 9,
     "status": "ok",
     "timestamp": 1655232008584,
     "user": {
      "displayName": "James Irving",
      "userId": "07032743932305917350"
     },
     "user_tz": 240
    },
    "id": "c98572f1",
    "outputId": "8c2efd96-07f7-4d71-f215-78d097129061"
   },
   "outputs": [
    {
     "data": {
      "text/plain": [
       "24"
      ]
     },
     "execution_count": 8,
     "metadata": {},
     "output_type": "execute_result"
    }
   ],
   "source": [
    "# Find and remove outliers for non smokers\n",
    "zscores= stats.zscore(non_charge)\n",
    "outliers = abs(zscores)>3\n",
    "np.sum(outliers)"
   ]
  },
  {
   "cell_type": "code",
   "execution_count": 9,
   "id": "7efecc37",
   "metadata": {
    "colab": {
     "base_uri": "https://localhost:8080/",
     "height": 424
    },
    "executionInfo": {
     "elapsed": 237,
     "status": "ok",
     "timestamp": 1655232022921,
     "user": {
      "displayName": "James Irving",
      "userId": "07032743932305917350"
     },
     "user_tz": 240
    },
    "id": "7efecc37",
    "outputId": "baed3163-f1e2-4f92-e66a-aa49cdb8e574",
    "tags": []
   },
   "outputs": [
    {
     "data": {
      "text/plain": [
       "1        1725.55230\n",
       "2        4449.46200\n",
       "3       21984.47061\n",
       "4        3866.85520\n",
       "5        3756.62160\n",
       "           ...     \n",
       "1332    11411.68500\n",
       "1333    10600.54830\n",
       "1334     2205.98080\n",
       "1335     1629.83350\n",
       "1336     2007.94500\n",
       "Name: charges, Length: 1040, dtype: float64"
      ]
     },
     "execution_count": 9,
     "metadata": {},
     "output_type": "execute_result"
    }
   ],
   "source": [
    "# Removing outliers from non smokers\n",
    "non_charge = non_charge[~outliers]\n",
    "non_charge"
   ]
  },
  {
   "cell_type": "markdown",
   "id": "8be01efa-ee2b-49bb-8d22-862c6309d630",
   "metadata": {},
   "source": [
    "#### Normality"
   ]
  },
  {
   "cell_type": "code",
   "execution_count": 10,
   "id": "4352f407",
   "metadata": {
    "id": "4352f407"
   },
   "outputs": [],
   "source": [
    "# Test for normality (or skip)\n",
    "# - We can skip this step since both groups are greater than n = 15)"
   ]
  },
  {
   "cell_type": "markdown",
   "id": "4edbebc9-3e3b-4fae-a9c3-b59a016b0e36",
   "metadata": {},
   "source": [
    "#### Equal Variance"
   ]
  },
  {
   "cell_type": "code",
   "execution_count": 11,
   "id": "574c39ad",
   "metadata": {
    "id": "574c39ad",
    "outputId": "8539a9dc-bdc4-4614-d527-7b7673b40bc2"
   },
   "outputs": [
    {
     "data": {
      "text/plain": [
       "LeveneResult(statistic=520.7468821724297, pvalue=2.4247238784347824e-97)"
      ]
     },
     "execution_count": 11,
     "metadata": {},
     "output_type": "execute_result"
    }
   ],
   "source": [
    "# Test for variance\n",
    "result = stats.levene(smokers_charge, non_charge)\n",
    "result"
   ]
  },
  {
   "cell_type": "code",
   "execution_count": 12,
   "id": "d6ce093e-a724-4531-8da6-ece1835659e0",
   "metadata": {},
   "outputs": [
    {
     "data": {
      "text/plain": [
       "True"
      ]
     },
     "execution_count": 12,
     "metadata": {},
     "output_type": "execute_result"
    }
   ],
   "source": [
    "result.pvalue<.05"
   ]
  },
  {
   "cell_type": "markdown",
   "id": "df40dd48-0751-4298-b410-a962d3dd3f75",
   "metadata": {},
   "source": [
    "- The null hypothesis of the Levene's test is that the samples DO have equal variance. \n",
    "    - Therefore, our significant p-value indicates that we do NOT have equal varaince. \n",
    "\n",
    "- Therefore, we will run the Welch's t-test instead of the default (for scipy's ttest_ind change the equal_var argument to False)"
   ]
  },
  {
   "cell_type": "markdown",
   "id": "4f6ab479-ac41-40d3-accd-027da8550f18",
   "metadata": {},
   "source": [
    "### Final Test"
   ]
  },
  {
   "cell_type": "code",
   "execution_count": 13,
   "id": "97d9ac0d",
   "metadata": {
    "id": "97d9ac0d",
    "outputId": "be6221b9-8177-4a8c-b6e7-b2106711c4d7"
   },
   "outputs": [
    {
     "data": {
      "text/plain": [
       "Ttest_indResult(statistic=33.732305987092516, pvalue=2.5753226625873578e-104)"
      ]
     },
     "execution_count": 13,
     "metadata": {},
     "output_type": "execute_result"
    }
   ],
   "source": [
    "# Since not equal variances, set equal_var = False\n",
    "result = stats.ttest_ind(smokers_charge, non_charge, equal_var = False)\n",
    "result"
   ]
  },
  {
   "cell_type": "code",
   "execution_count": 14,
   "id": "f413aa45-e024-4be6-ac81-dfa9ef39d844",
   "metadata": {},
   "outputs": [
    {
     "data": {
      "text/plain": [
       "True"
      ]
     },
     "execution_count": 14,
     "metadata": {},
     "output_type": "execute_result"
    }
   ],
   "source": [
    "result.pvalue<.05"
   ]
  },
  {
   "cell_type": "markdown",
   "id": "d27d3a66-a5b3-4ecd-8099-81104c928bcc",
   "metadata": {},
   "source": [
    "- Our Welch's T-Test return a p-value < .05 therefore we can reject the null hypothesis and support the alternative hypothesis that there is a significant difference in insurance charges for smokers vs. non-smokers.\n",
    "\n",
    "- In order to know if they are have higher or lower charges, we look at the actual means of our final groups."
   ]
  },
  {
   "cell_type": "code",
   "execution_count": 15,
   "id": "cb8aeb61-a9ff-4eab-ad06-9b978c07683d",
   "metadata": {},
   "outputs": [
    {
     "data": {
      "image/png": "[encoded data removed]",
      "text/plain": [
       "<Figure size 640x480 with 1 Axes>"
      ]
     },
     "metadata": {},
     "output_type": "display_data"
    }
   ],
   "source": [
    "plt.bar(['Non-Smoker','Smoker'],[non_charge.mean(), smokers_charge.mean()]);"
   ]
  },
  {
   "cell_type": "markdown",
   "id": "92474937-af66-49e0-898b-6a2dead9f216",
   "metadata": {
    "tags": []
   },
   "source": [
    "## Q2. Are men more likely to smoke than women?"
   ]
  },
  {
   "cell_type": "markdown",
   "id": "4188cf8a-eba4-488b-b06a-71531d33a603",
   "metadata": {},
   "source": [
    "### State the Hypothesis & Null Hypothesis "
   ]
  },
  {
   "cell_type": "markdown",
   "id": "d9a8213c-5c23-4a29-bd98-afc0502ef7ba",
   "metadata": {
    "id": "fa31ccaf"
   },
   "source": [
    "\n",
    "\n",
    "- Null Hypothesis ($H_0$):Men and women are equally likely to be smokers. \n",
    "\n",
    "- Alternative Hypothesis ($H_A$): Men or women are more likely to be smokers."
   ]
  },
  {
   "cell_type": "markdown",
   "id": "83ac2f54-8848-4314-992b-fba5b359ddbb",
   "metadata": {},
   "source": [
    "### Selecting the Correct Hypothesis Test"
   ]
  },
  {
   "cell_type": "markdown",
   "id": "b7e16e82-84cc-4e2c-9f7f-f0bf15816890",
   "metadata": {},
   "source": [
    "Based upon the [Choosing the Right Hypothesis Test workflow from  the LP]( https://login.codingdojo.com/m/689/16351/121313):\n",
    "\n",
    "- What type of data? Numeric/Categorical?\n",
    "    - Categorical (Member of smoker/non-smoker)\n",
    "    \n",
    "    \n",
    "- What type of comparison?\n",
    "    - 2 groups/samples (Males vs Females)\n",
    "    \n",
    "- Therefore the correct test is:     \n",
    "    - Chi-Squared Contingency Test\n",
    "\n",
    "\n",
    "\n",
    "- **Assumptions of Chi-Square Test:** \n",
    "  - There are two categorical variables (ordinal or nominal)\n",
    "  - The outcomes are independent."
   ]
  },
  {
   "cell_type": "code",
   "execution_count": 16,
   "id": "d8d9f322",
   "metadata": {
    "id": "d8d9f322",
    "outputId": "3b937ce0-a6d2-479b-afff-108180e5c2f5"
   },
   "outputs": [
    {
     "data": {
      "image/png": "[encoded data removed]",
      "text/plain": [
       "<Figure size 640x480 with 1 Axes>"
      ]
     },
     "metadata": {},
     "output_type": "display_data"
    }
   ],
   "source": [
    "ax = sns.countplot(data=df, x='sex',hue='smoker',)\n",
    "ax.set_title(\"Number of Smokers by Sex\");"
   ]
  },
  {
   "cell_type": "code",
   "execution_count": 17,
   "id": "aa2ed356",
   "metadata": {
    "id": "aa2ed356",
    "outputId": "748583f0-8a48-4dca-83a6-007c25c6927a"
   },
   "outputs": [
    {
     "data": {
      "text/html": [
       "<div>\n",
       "<style scoped>\n",
       "    .dataframe tbody tr th:only-of-type {\n",
       "        vertical-align: middle;\n",
       "    }\n",
       "\n",
       "    .dataframe tbody tr th {\n",
       "        vertical-align: top;\n",
       "    }\n",
       "\n",
       "    .dataframe thead th {\n",
       "        text-align: right;\n",
       "    }\n",
       "</style>\n",
       "<table border=\"1\" class=\"dataframe\">\n",
       "  <thead>\n",
       "    <tr style=\"text-align: right;\">\n",
       "      <th>smoker</th>\n",
       "      <th>no</th>\n",
       "      <th>yes</th>\n",
       "    </tr>\n",
       "    <tr>\n",
       "      <th>sex</th>\n",
       "      <th></th>\n",
       "      <th></th>\n",
       "    </tr>\n",
       "  </thead>\n",
       "  <tbody>\n",
       "    <tr>\n",
       "      <th>female</th>\n",
       "      <td>547</td>\n",
       "      <td>115</td>\n",
       "    </tr>\n",
       "    <tr>\n",
       "      <th>male</th>\n",
       "      <td>517</td>\n",
       "      <td>159</td>\n",
       "    </tr>\n",
       "  </tbody>\n",
       "</table>\n",
       "</div>"
      ],
      "text/plain": [
       "smoker   no  yes\n",
       "sex             \n",
       "female  547  115\n",
       "male    517  159"
      ]
     },
     "execution_count": 17,
     "metadata": {},
     "output_type": "execute_result"
    }
   ],
   "source": [
    "# calculate the contingency table with pd.cross-tab\n",
    "table = pd.crosstab(df['sex'], df['smoker'])\n",
    "table"
   ]
  },
  {
   "cell_type": "code",
   "execution_count": 18,
   "id": "f980b9ac",
   "metadata": {
    "id": "f980b9ac"
   },
   "outputs": [],
   "source": [
    "# Run the Test and Save the Output\n",
    "result = stats.chi2_contingency(table)\n",
    "chi2, p, deg_free, expected_vals = result #this labels the results"
   ]
  },
  {
   "cell_type": "code",
   "execution_count": 19,
   "id": "34e40867",
   "metadata": {
    "id": "34e40867",
    "outputId": "f6f25649-ed3c-45b5-f6e8-2abd51876fe2"
   },
   "outputs": [
    {
     "name": "stdout",
     "output_type": "stream",
     "text": [
      "0.006548143503580696\n"
     ]
    },
    {
     "data": {
      "text/plain": [
       "True"
      ]
     },
     "execution_count": 19,
     "metadata": {},
     "output_type": "execute_result"
    }
   ],
   "source": [
    "# What was our p-value?\n",
    "print(p)\n",
    "p<.05"
   ]
  },
  {
   "cell_type": "markdown",
   "id": "10871f0f-bcc2-4863-935e-6446ad8f9598",
   "metadata": {},
   "source": [
    "Our p-value is < our alpha of .05, so we reject the null hypothesis that men and women are equally liklely to be smokers. \n",
    "\n",
    "We must examine the % of males vs. females who smoke to confirm if males smoke more or less."
   ]
  },
  {
   "cell_type": "code",
   "execution_count": 20,
   "id": "e2f6a23f-ba56-4b02-9af0-e8e09946e61f",
   "metadata": {},
   "outputs": [
    {
     "data": {
      "text/plain": [
       "<Axes: xlabel='sex', ylabel='Probability'>"
      ]
     },
     "execution_count": 20,
     "metadata": {},
     "output_type": "execute_result"
    },
    {
     "data": {
      "image/png": "[encoded data removed]",
      "text/plain": [
       "<Figure size 640x480 with 1 Axes>"
      ]
     },
     "metadata": {},
     "output_type": "display_data"
    }
   ],
   "source": [
    "sns.histplot(data=df, x='sex', hue='smoker', stat='probability',\n",
    "            multiple='fill')"
   ]
  },
  {
   "cell_type": "markdown",
   "id": "38079f83",
   "metadata": {
    "id": "38079f83"
   },
   "source": [
    "Men are signficantly more likely to be smokers than women."
   ]
  },
  {
   "cell_type": "markdown",
   "id": "7e7696a2-07c1-4f2a-8551-92a0e3822ee9",
   "metadata": {},
   "source": [
    "## Q3. Do different regions have different charges, on average?"
   ]
  },
  {
   "cell_type": "markdown",
   "id": "f8ecded1-edd7-4bdb-a809-b28898946612",
   "metadata": {},
   "source": [
    "### State the Hypothesis & Null Hypothesis "
   ]
  },
  {
   "cell_type": "markdown",
   "id": "5d71187b-f0bc-4615-80be-1f1c83a5c842",
   "metadata": {
    "id": "fa31ccaf"
   },
   "source": [
    "\n",
    "\n",
    "- Null Hypothesis ($H_0$): Insurance charges are the same across regions.\n",
    "\n",
    "- Alternative Hypothesis ($H_A$): Insurance charges are different across regions."
   ]
  },
  {
   "cell_type": "code",
   "execution_count": null,
   "id": "38e3590b-ae7f-4fa7-898e-17acaa7742f7",
   "metadata": {},
   "outputs": [],
   "source": []
  },
  {
   "cell_type": "markdown",
   "id": "02eddd41-6a3e-489d-9f61-0ef238b5f50f",
   "metadata": {},
   "source": [
    "### Selecting the Correct Hypothesis Test"
   ]
  },
  {
   "cell_type": "code",
   "execution_count": 21,
   "id": "0405914b",
   "metadata": {
    "id": "0405914b",
    "outputId": "8b348697-e487-4212-9f70-22c4823cee08"
   },
   "outputs": [
    {
     "data": {
      "text/plain": [
       "<Axes: xlabel='region', ylabel='charges'>"
      ]
     },
     "execution_count": 21,
     "metadata": {},
     "output_type": "execute_result"
    },
    {
     "data": {
      "image/png": "[encoded data removed]",
      "text/plain": [
       "<Figure size 640x480 with 1 Axes>"
      ]
     },
     "metadata": {},
     "output_type": "display_data"
    }
   ],
   "source": [
    "sns.barplot(data = df, x = 'region', y  = 'charges')"
   ]
  },
  {
   "cell_type": "markdown",
   "id": "09de079d-368d-4776-a5d6-7b07ce054eb4",
   "metadata": {},
   "source": [
    "Based upon the [Choosing the Right Hypothesis Test workflow from  the LP]( https://login.codingdojo.com/m/689/16351/121313):\n",
    "\n",
    "- What type of data? Numeric/Categorical?\n",
    "    - Numeric (Charges)\n",
    "    \n",
    "    \n",
    "- What type of comparison?\n",
    "    - More than 2 groups/samples (4 groups)\n",
    "    \n",
    "- Therefore the correct test is:     \n",
    "    - ANOVA\n",
    "\n",
    "\n",
    "\n",
    "\n",
    "- **Assumptions of ANOVA:** \n",
    "    - No significant outliers\n",
    "    - Equal variance\n",
    "    - Normality"
   ]
  },
  {
   "cell_type": "markdown",
   "id": "2cf3e812-7c2c-459b-9ee8-d4d357bfd802",
   "metadata": {},
   "source": [
    "### Testing ANOVA Assumptions"
   ]
  },
  {
   "cell_type": "code",
   "execution_count": 22,
   "id": "ea0da1ac",
   "metadata": {
    "id": "ea0da1ac",
    "outputId": "456dad60-ced2-499c-d1af-c695ab40fdc2"
   },
   "outputs": [
    {
     "data": {
      "text/plain": [
       "dict_keys(['southwest', 'southeast', 'northwest', 'northeast'])"
      ]
     },
     "execution_count": 22,
     "metadata": {},
     "output_type": "execute_result"
    }
   ],
   "source": [
    "# Create groups dictionary.\n",
    "groups = {}\n",
    "\n",
    "## Loop through all unique categories\n",
    "for region in df['region'].unique():\n",
    "    ## Get series for group and rename\n",
    "    data = df.loc[df['region']==region,'charges'].copy()\n",
    "\n",
    "    # save into the dictionary\n",
    "    groups[region] = data\n",
    "groups.keys()"
   ]
  },
  {
   "cell_type": "markdown",
   "id": "69d2b581-ad3d-4569-a063-bb4378e6103d",
   "metadata": {},
   "source": [
    "#### No Outliers"
   ]
  },
  {
   "cell_type": "code",
   "execution_count": 35,
   "id": "e8a0769f-eca3-44d4-931a-967f0086c9af",
   "metadata": {},
   "outputs": [
    {
     "name": "stdout",
     "output_type": "stream",
     "text": [
      "- For southwest, there were 8 outliers removed.\n",
      "- For southeast, there were 2 outliers removed.\n",
      "- For northwest, there were 7 outliers removed.\n",
      "- For northeast, there were 4 outliers removed.\n"
     ]
    },
    {
     "data": {
      "text/plain": [
       "dict_keys(['southwest', 'southeast', 'northwest', 'northeast'])"
      ]
     },
     "execution_count": 35,
     "metadata": {},
     "output_type": "execute_result"
    }
   ],
   "source": [
    "## Loop through groups\n",
    "groups_clean = {}\n",
    "\n",
    "for group, data in groups.items():\n",
    "    \n",
    "    ## Get series for group and rename\n",
    "    outliers = np.abs(stats.zscore(data))>3\n",
    "    n_outliers = np.sum(outliers)\n",
    "    \n",
    "    print(f\"- For {group}, there were {n_outliers} outliers removed.\")\n",
    "    clean_data = data[~outliers]\n",
    "\n",
    "    # save into the clean dictionary\n",
    "    groups_clean[group] = clean_data\n",
    "    \n",
    "groups_clean.keys()"
   ]
  },
  {
   "cell_type": "markdown",
   "id": "c8e18f1d-1eb0-441f-8eb5-aec7c501bccc",
   "metadata": {},
   "source": [
    "#### Normality"
   ]
  },
  {
   "cell_type": "code",
   "execution_count": 38,
   "id": "b36853b7",
   "metadata": {
    "id": "b36853b7",
    "outputId": "156d2e5e-375c-47f7-e06c-4a9a53566775"
   },
   "outputs": [
    {
     "data": {
      "text/html": [
       "<div>\n",
       "<style scoped>\n",
       "    .dataframe tbody tr th:only-of-type {\n",
       "        vertical-align: middle;\n",
       "    }\n",
       "\n",
       "    .dataframe tbody tr th {\n",
       "        vertical-align: top;\n",
       "    }\n",
       "\n",
       "    .dataframe thead th {\n",
       "        text-align: right;\n",
       "    }\n",
       "</style>\n",
       "<table border=\"1\" class=\"dataframe\">\n",
       "  <thead>\n",
       "    <tr style=\"text-align: right;\">\n",
       "      <th></th>\n",
       "      <th>group</th>\n",
       "      <th>n</th>\n",
       "      <th>p</th>\n",
       "      <th>test stat</th>\n",
       "      <th>sig?</th>\n",
       "    </tr>\n",
       "  </thead>\n",
       "  <tbody>\n",
       "    <tr>\n",
       "      <th>0</th>\n",
       "      <td>southwest</td>\n",
       "      <td>317</td>\n",
       "      <td>7.728611e-22</td>\n",
       "      <td>97.223886</td>\n",
       "      <td>True</td>\n",
       "    </tr>\n",
       "    <tr>\n",
       "      <th>1</th>\n",
       "      <td>southeast</td>\n",
       "      <td>362</td>\n",
       "      <td>1.936990e-13</td>\n",
       "      <td>58.544942</td>\n",
       "      <td>True</td>\n",
       "    </tr>\n",
       "    <tr>\n",
       "      <th>2</th>\n",
       "      <td>northwest</td>\n",
       "      <td>318</td>\n",
       "      <td>2.940543e-19</td>\n",
       "      <td>85.341045</td>\n",
       "      <td>True</td>\n",
       "    </tr>\n",
       "    <tr>\n",
       "      <th>3</th>\n",
       "      <td>northeast</td>\n",
       "      <td>320</td>\n",
       "      <td>3.557877e-17</td>\n",
       "      <td>75.749565</td>\n",
       "      <td>True</td>\n",
       "    </tr>\n",
       "  </tbody>\n",
       "</table>\n",
       "</div>"
      ],
      "text/plain": [
       "       group    n             p  test stat  sig?\n",
       "0  southwest  317  7.728611e-22  97.223886  True\n",
       "1  southeast  362  1.936990e-13  58.544942  True\n",
       "2  northwest  318  2.940543e-19  85.341045  True\n",
       "3  northeast  320  3.557877e-17  75.749565  True"
      ]
     },
     "execution_count": 38,
     "metadata": {},
     "output_type": "execute_result"
    }
   ],
   "source": [
    "# Running normal test on each group and confirming there are >20 in each group\n",
    "norm_results = []\n",
    "for group, data in groups_clean.items():\n",
    "    \n",
    "    stat, p = stats.normaltest(data)\n",
    "    ## save the p val, test statistic, and the size of the group\n",
    "    norm_results.append({'group':group, 'n': len(data),\n",
    "                         'p':p, 'test stat':stat, 'sig?':p<.05})\n",
    "## convert to a dataframe\n",
    "norm_results_df = pd.DataFrame(norm_results)\n",
    "norm_results_df"
   ]
  },
  {
   "cell_type": "markdown",
   "id": "5bbc989e-880e-4c11-a0b2-41a797b7218f",
   "metadata": {},
   "source": [
    "- None of the groups are normally disributed, BUT our groups are greater than n =15 so we can safely disregard the assumption of normality."
   ]
  },
  {
   "cell_type": "markdown",
   "id": "dc2d7cd1-c320-417b-8615-a75ba02b95e1",
   "metadata": {},
   "source": [
    "### Testing Assumption of Equal Variance"
   ]
  },
  {
   "cell_type": "code",
   "execution_count": 40,
   "id": "2bddfff9",
   "metadata": {
    "id": "2bddfff9",
    "outputId": "1c2e6103-979f-478b-8581-323bedfc283b"
   },
   "outputs": [
    {
     "data": {
      "text/plain": [
       "LeveneResult(statistic=9.518349004554441, pvalue=3.2035503711783993e-06)"
      ]
     },
     "execution_count": 40,
     "metadata": {},
     "output_type": "execute_result"
    }
   ],
   "source": [
    "# with the * operator\n",
    "res = stats.levene(*groups_clean.values())\n",
    "res"
   ]
  },
  {
   "cell_type": "code",
   "execution_count": 41,
   "id": "5e706ac7",
   "metadata": {
    "id": "5e706ac7"
   },
   "outputs": [
    {
     "data": {
      "text/plain": [
       "True"
      ]
     },
     "execution_count": 41,
     "metadata": {},
     "output_type": "execute_result"
    }
   ],
   "source": [
    "res.pvalue<.05"
   ]
  },
  {
   "cell_type": "markdown",
   "id": "c7f3b2a8-0bbe-427f-b6a6-20a8db4f8b6f",
   "metadata": {},
   "source": [
    "- The null hypothesis of the Levene's test is that the samples DO have equal variance. \n",
    "    - Therefore, our significant p-value indicates that we do NOT have equal varaince. \n",
    "\n",
    "- Therefore, we will run the Kruskal-Wallis test instead of the ANOVA test."
   ]
  },
  {
   "cell_type": "markdown",
   "id": "dfbb951f-a66b-4dc4-8ce6-586a83655c63",
   "metadata": {},
   "source": [
    "### Final Hypothesis Test"
   ]
  },
  {
   "cell_type": "code",
   "execution_count": 42,
   "id": "87c40378",
   "metadata": {
    "id": "87c40378",
    "outputId": "303921ad-70d4-40e1-ec52-cedf52a5c469"
   },
   "outputs": [
    {
     "data": {
      "text/plain": [
       "KruskalResult(statistic=6.914045702545643, pvalue=0.07468847911322242)"
      ]
     },
     "execution_count": 42,
     "metadata": {},
     "output_type": "execute_result"
    }
   ],
   "source": [
    "# Run the kruskal wallis test\n",
    "res = stats.kruskal(*groups_clean.values())\n",
    "res"
   ]
  },
  {
   "cell_type": "code",
   "execution_count": 43,
   "id": "a7f1b152-45b0-4cb8-8269-e414859bf199",
   "metadata": {},
   "outputs": [
    {
     "data": {
      "text/plain": [
       "False"
      ]
     },
     "execution_count": 43,
     "metadata": {},
     "output_type": "execute_result"
    }
   ],
   "source": [
    "res.pvalue<.05"
   ]
  },
  {
   "cell_type": "markdown",
   "id": "0c48a5f0",
   "metadata": {
    "id": "0c48a5f0"
   },
   "source": [
    "Our p-value is greater than 0.05, so no we fail to reject the null hypothesis. \n",
    "\n",
    "There are no significant difference between regions."
   ]
  }
 ],
 "metadata": {
  "colab": {
   "provenance": []
  },
  "kernelspec": {
   "display_name": "Python (dojo-env)",
   "language": "python",
   "name": "dojo-env"
  },
  "language_info": {
   "codemirror_mode": {
    "name": "ipython",
    "version": 3
   },
   "file_extension": ".py",
   "mimetype": "text/x-python",
   "name": "python",
   "nbconvert_exporter": "python",
   "pygments_lexer": "ipython3",
   "version": "3.9.15"
  },
  "toc": {
   "base_numbering": 1,
   "nav_menu": {},
   "number_sections": true,
   "sideBar": true,
   "skip_h1_title": false,
   "title_cell": "Table of Contents",
   "title_sidebar": "Contents",
   "toc_cell": false,
   "toc_position": {},
   "toc_section_display": true,
   "toc_window_display": false
  },
  "widgets": {
   "application/vnd.jupyter.widget-state+json": {
    "state": {},
    "version_major": 2,
    "version_minor": 0
   }
  }
 },
 "nbformat": 4,
 "nbformat_minor": 5
}
