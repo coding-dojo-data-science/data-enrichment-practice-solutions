{
 "cells": [
  {
   "cell_type": "markdown",
   "id": "d0700050-9f59-4603-a2bd-91e71bffb4bf",
   "metadata": {
    "id": "7c8e07e0"
   },
   "source": [
    "# Using the Yelp API (Practice)"
   ]
  },
  {
   "cell_type": "markdown",
   "id": "45c6a1bb-dcf3-4f80-af07-ead0291a1b37",
   "metadata": {
    "id": "7c8e07e0"
   },
   "source": [
    "For this assignment, you will practice with the Yelp API and the concept of pagination.\n",
    "\n",
    "- Use your API credentials to access the Yelp API\n",
    "- You can choose the location and search term (food), but it must return more than 20 results so you can practice pagination!\n",
    "- Obtain ONLY the first two pages of results\n",
    "- Concatenate the results into one data frame\n",
    "- Save the businesses as a records-oriented JSON file with an informative filename. (df.to_json(\"yelp-search-new-york-pizza.json\", orient='records'))"
   ]
  },
  {
   "cell_type": "code",
   "execution_count": 1,
   "id": "d445cf1f",
   "metadata": {
    "id": "d445cf1f"
   },
   "outputs": [],
   "source": [
    "from yelpapi import YelpAPI\n",
    "import json\n",
    "import pandas as pd"
   ]
  },
  {
   "cell_type": "code",
   "execution_count": 3,
   "id": "076cb4c9",
   "metadata": {
    "id": "076cb4c9",
    "outputId": "3d65f104-f96f-4a66-ca6d-0716e49b6b3c"
   },
   "outputs": [
    {
     "data": {
      "text/plain": [
       "dict_keys(['client-id', 'api-key'])"
      ]
     },
     "execution_count": 3,
     "metadata": {},
     "output_type": "execute_result"
    }
   ],
   "source": [
    "# students must use their own username here instead of \"brend\"\n",
    "with open('/Users/codingdojo/.secret/yelp_api.json') as f:\n",
    "    login = json.load(f)\n",
    "login.keys()"
   ]
  },
  {
   "cell_type": "code",
   "execution_count": 4,
   "id": "1095d98a",
   "metadata": {
    "id": "1095d98a",
    "outputId": "0e7fa454-d350-4c28-cc2a-c768383bf315"
   },
   "outputs": [
    {
     "data": {
      "text/plain": [
       "<yelpapi.yelpapi.YelpAPI at 0x129bd55b0>"
      ]
     },
     "execution_count": 4,
     "metadata": {},
     "output_type": "execute_result"
    }
   ],
   "source": [
    "yelp_api = YelpAPI(login['api-key'], timeout_s=5.0)\n",
    "yelp_api"
   ]
  },
  {
   "cell_type": "markdown",
   "id": "11322af3",
   "metadata": {
    "id": "11322af3"
   },
   "source": [
    "Students can choose any city and food for this task as long as it is more than 20 businesses long to show how pagination works"
   ]
  },
  {
   "cell_type": "code",
   "execution_count": 6,
   "id": "45ee32bd",
   "metadata": {
    "id": "45ee32bd",
    "outputId": "2c25f152-69af-44c8-8f3f-d9126a0591aa"
   },
   "outputs": [
    {
     "data": {
      "text/plain": [
       "dict_keys(['businesses', 'total', 'region'])"
      ]
     },
     "execution_count": 6,
     "metadata": {},
     "output_type": "execute_result"
    }
   ],
   "source": [
    "results = yelp_api.search_query(location='Greenville, SC',\n",
    "                                       term='Sushi')\n",
    "type(results)\n",
    "results.keys()"
   ]
  },
  {
   "cell_type": "code",
   "execution_count": 7,
   "id": "0ff84aff",
   "metadata": {
    "id": "0ff84aff",
    "outputId": "8d4b753d-4392-4d85-ebc6-b8dab073650e"
   },
   "outputs": [
    {
     "data": {
      "text/html": [
       "<div>\n",
       "<style scoped>\n",
       "    .dataframe tbody tr th:only-of-type {\n",
       "        vertical-align: middle;\n",
       "    }\n",
       "\n",
       "    .dataframe tbody tr th {\n",
       "        vertical-align: top;\n",
       "    }\n",
       "\n",
       "    .dataframe thead th {\n",
       "        text-align: right;\n",
       "    }\n",
       "</style>\n",
       "<table border=\"1\" class=\"dataframe\">\n",
       "  <thead>\n",
       "    <tr style=\"text-align: right;\">\n",
       "      <th></th>\n",
       "      <th>id</th>\n",
       "      <th>alias</th>\n",
       "      <th>name</th>\n",
       "      <th>image_url</th>\n",
       "      <th>is_closed</th>\n",
       "      <th>url</th>\n",
       "      <th>review_count</th>\n",
       "      <th>categories</th>\n",
       "      <th>rating</th>\n",
       "      <th>coordinates</th>\n",
       "      <th>transactions</th>\n",
       "      <th>location</th>\n",
       "      <th>phone</th>\n",
       "      <th>display_phone</th>\n",
       "      <th>distance</th>\n",
       "      <th>price</th>\n",
       "    </tr>\n",
       "  </thead>\n",
       "  <tbody>\n",
       "    <tr>\n",
       "      <th>0</th>\n",
       "      <td>RGRk1ioORwm_FIX8PM732Q</td>\n",
       "      <td>konnichiwa-greenville</td>\n",
       "      <td>Konnichiwa</td>\n",
       "      <td>https://s3-media3.fl.yelpcdn.com/bphoto/p47H0_...</td>\n",
       "      <td>False</td>\n",
       "      <td>https://www.yelp.com/biz/konnichiwa-greenville...</td>\n",
       "      <td>57</td>\n",
       "      <td>[{'alias': 'sushi', 'title': 'Sushi Bars'}, {'...</td>\n",
       "      <td>4.0</td>\n",
       "      <td>{'latitude': 34.845952342825115, 'longitude': ...</td>\n",
       "      <td>[]</td>\n",
       "      <td>{'address1': '101 Falls Park Dr', 'address2': ...</td>\n",
       "      <td>+18642524436</td>\n",
       "      <td>(864) 252-4436</td>\n",
       "      <td>4108.206391</td>\n",
       "      <td>NaN</td>\n",
       "    </tr>\n",
       "    <tr>\n",
       "      <th>1</th>\n",
       "      <td>2jXS4oZkMhAONtd2j7L5Yg</td>\n",
       "      <td>chef-21-sushi-burger-and-korean-bbq-greenville</td>\n",
       "      <td>Chef 21 Sushi Burger &amp; Korean BBQ</td>\n",
       "      <td>https://s3-media3.fl.yelpcdn.com/bphoto/DRC19Q...</td>\n",
       "      <td>False</td>\n",
       "      <td>https://www.yelp.com/biz/chef-21-sushi-burger-...</td>\n",
       "      <td>11</td>\n",
       "      <td>[{'alias': 'korean', 'title': 'Korean'}, {'ali...</td>\n",
       "      <td>4.5</td>\n",
       "      <td>{'latitude': 34.84775563800962, 'longitude': -...</td>\n",
       "      <td>[]</td>\n",
       "      <td>{'address1': '500 E McBee Ave', 'address2': 'S...</td>\n",
       "      <td>+18642633018</td>\n",
       "      <td>(864) 263-3018</td>\n",
       "      <td>3419.093689</td>\n",
       "      <td>NaN</td>\n",
       "    </tr>\n",
       "  </tbody>\n",
       "</table>\n",
       "</div>"
      ],
      "text/plain": [
       "                       id                                           alias  \\\n",
       "0  RGRk1ioORwm_FIX8PM732Q                           konnichiwa-greenville   \n",
       "1  2jXS4oZkMhAONtd2j7L5Yg  chef-21-sushi-burger-and-korean-bbq-greenville   \n",
       "\n",
       "                                name  \\\n",
       "0                         Konnichiwa   \n",
       "1  Chef 21 Sushi Burger & Korean BBQ   \n",
       "\n",
       "                                           image_url  is_closed  \\\n",
       "0  https://s3-media3.fl.yelpcdn.com/bphoto/p47H0_...      False   \n",
       "1  https://s3-media3.fl.yelpcdn.com/bphoto/DRC19Q...      False   \n",
       "\n",
       "                                                 url  review_count  \\\n",
       "0  https://www.yelp.com/biz/konnichiwa-greenville...            57   \n",
       "1  https://www.yelp.com/biz/chef-21-sushi-burger-...            11   \n",
       "\n",
       "                                          categories  rating  \\\n",
       "0  [{'alias': 'sushi', 'title': 'Sushi Bars'}, {'...     4.0   \n",
       "1  [{'alias': 'korean', 'title': 'Korean'}, {'ali...     4.5   \n",
       "\n",
       "                                         coordinates transactions  \\\n",
       "0  {'latitude': 34.845952342825115, 'longitude': ...           []   \n",
       "1  {'latitude': 34.84775563800962, 'longitude': -...           []   \n",
       "\n",
       "                                            location         phone  \\\n",
       "0  {'address1': '101 Falls Park Dr', 'address2': ...  +18642524436   \n",
       "1  {'address1': '500 E McBee Ave', 'address2': 'S...  +18642633018   \n",
       "\n",
       "    display_phone     distance price  \n",
       "0  (864) 252-4436  4108.206391   NaN  \n",
       "1  (864) 263-3018  3419.093689   NaN  "
      ]
     },
     "execution_count": 7,
     "metadata": {},
     "output_type": "execute_result"
    }
   ],
   "source": [
    "sushi0 = pd.DataFrame(sushi_0['businesses'])\n",
    "sushi0.head(2)"
   ]
  },
  {
   "cell_type": "code",
   "execution_count": 8,
   "id": "2c0e8b32",
   "metadata": {
    "id": "2c0e8b32",
    "outputId": "62b73eed-375a-4f29-e895-f16a0505718d"
   },
   "outputs": [
    {
     "data": {
      "text/plain": [
       "107"
      ]
     },
     "execution_count": 8,
     "metadata": {},
     "output_type": "execute_result"
    }
   ],
   "source": [
    "sushi_0['total']"
   ]
  },
  {
   "cell_type": "markdown",
   "id": "05880fca",
   "metadata": {
    "id": "05880fca"
   },
   "source": [
    "Students are only asked to do the first two pages. Notice the offset in the code below is set to 20"
   ]
  },
  {
   "cell_type": "code",
   "execution_count": 9,
   "id": "e88692b6",
   "metadata": {
    "id": "e88692b6"
   },
   "outputs": [],
   "source": [
    "# 92 will require 5 pages\n",
    "# The assignment only asks for two pages\n",
    "sushi_20 = yelp_api.search_query(location='Greenville, SC',\n",
    "                                       term='sushi',\n",
    "                               offset = 20)"
   ]
  },
  {
   "cell_type": "code",
   "execution_count": 10,
   "id": "a8be6620",
   "metadata": {
    "id": "a8be6620",
    "outputId": "bb84e3ee-3a7c-47f5-815e-461c79623ef8"
   },
   "outputs": [
    {
     "data": {
      "text/html": [
       "<div>\n",
       "<style scoped>\n",
       "    .dataframe tbody tr th:only-of-type {\n",
       "        vertical-align: middle;\n",
       "    }\n",
       "\n",
       "    .dataframe tbody tr th {\n",
       "        vertical-align: top;\n",
       "    }\n",
       "\n",
       "    .dataframe thead th {\n",
       "        text-align: right;\n",
       "    }\n",
       "</style>\n",
       "<table border=\"1\" class=\"dataframe\">\n",
       "  <thead>\n",
       "    <tr style=\"text-align: right;\">\n",
       "      <th></th>\n",
       "      <th>id</th>\n",
       "      <th>alias</th>\n",
       "      <th>name</th>\n",
       "      <th>image_url</th>\n",
       "      <th>is_closed</th>\n",
       "      <th>url</th>\n",
       "      <th>review_count</th>\n",
       "      <th>categories</th>\n",
       "      <th>rating</th>\n",
       "      <th>coordinates</th>\n",
       "      <th>transactions</th>\n",
       "      <th>price</th>\n",
       "      <th>location</th>\n",
       "      <th>phone</th>\n",
       "      <th>display_phone</th>\n",
       "      <th>distance</th>\n",
       "    </tr>\n",
       "  </thead>\n",
       "  <tbody>\n",
       "    <tr>\n",
       "      <th>0</th>\n",
       "      <td>0NNl-TjwwDkRl0oAZK4p3A</td>\n",
       "      <td>sushi-asa-greenville</td>\n",
       "      <td>Sushi Asa</td>\n",
       "      <td>https://s3-media1.fl.yelpcdn.com/bphoto/xEYZ7_...</td>\n",
       "      <td>False</td>\n",
       "      <td>https://www.yelp.com/biz/sushi-asa-greenville?...</td>\n",
       "      <td>140</td>\n",
       "      <td>[{'alias': 'sushi', 'title': 'Sushi Bars'}]</td>\n",
       "      <td>4.0</td>\n",
       "      <td>{'latitude': 34.8171189, 'longitude': -82.2755...</td>\n",
       "      <td>[delivery, pickup]</td>\n",
       "      <td>$$</td>\n",
       "      <td>{'address1': '150 Tanner Rd', 'address2': None...</td>\n",
       "      <td>+18642885259</td>\n",
       "      <td>(864) 288-5259</td>\n",
       "      <td>8150.554706</td>\n",
       "    </tr>\n",
       "    <tr>\n",
       "      <th>1</th>\n",
       "      <td>HlMRxvnD7jC6uMUYZCsDCg</td>\n",
       "      <td>tsunami-japanese-sushi-bar-and-grill-greenville</td>\n",
       "      <td>Tsunami Japanese Sushi Bar and Grill</td>\n",
       "      <td>https://s3-media1.fl.yelpcdn.com/bphoto/w5Q5tO...</td>\n",
       "      <td>False</td>\n",
       "      <td>https://www.yelp.com/biz/tsunami-japanese-sush...</td>\n",
       "      <td>133</td>\n",
       "      <td>[{'alias': 'japanese', 'title': 'Japanese'}, {...</td>\n",
       "      <td>3.5</td>\n",
       "      <td>{'latitude': 34.85197, 'longitude': -82.39704}</td>\n",
       "      <td>[delivery, pickup]</td>\n",
       "      <td>$$</td>\n",
       "      <td>{'address1': '106 E North St', 'address2': '',...</td>\n",
       "      <td>+18644671055</td>\n",
       "      <td>(864) 467-1055</td>\n",
       "      <td>3879.396696</td>\n",
       "    </tr>\n",
       "  </tbody>\n",
       "</table>\n",
       "</div>"
      ],
      "text/plain": [
       "                       id                                            alias  \\\n",
       "0  0NNl-TjwwDkRl0oAZK4p3A                             sushi-asa-greenville   \n",
       "1  HlMRxvnD7jC6uMUYZCsDCg  tsunami-japanese-sushi-bar-and-grill-greenville   \n",
       "\n",
       "                                   name  \\\n",
       "0                             Sushi Asa   \n",
       "1  Tsunami Japanese Sushi Bar and Grill   \n",
       "\n",
       "                                           image_url  is_closed  \\\n",
       "0  https://s3-media1.fl.yelpcdn.com/bphoto/xEYZ7_...      False   \n",
       "1  https://s3-media1.fl.yelpcdn.com/bphoto/w5Q5tO...      False   \n",
       "\n",
       "                                                 url  review_count  \\\n",
       "0  https://www.yelp.com/biz/sushi-asa-greenville?...           140   \n",
       "1  https://www.yelp.com/biz/tsunami-japanese-sush...           133   \n",
       "\n",
       "                                          categories  rating  \\\n",
       "0        [{'alias': 'sushi', 'title': 'Sushi Bars'}]     4.0   \n",
       "1  [{'alias': 'japanese', 'title': 'Japanese'}, {...     3.5   \n",
       "\n",
       "                                         coordinates        transactions  \\\n",
       "0  {'latitude': 34.8171189, 'longitude': -82.2755...  [delivery, pickup]   \n",
       "1     {'latitude': 34.85197, 'longitude': -82.39704}  [delivery, pickup]   \n",
       "\n",
       "  price                                           location         phone  \\\n",
       "0    $$  {'address1': '150 Tanner Rd', 'address2': None...  +18642885259   \n",
       "1    $$  {'address1': '106 E North St', 'address2': '',...  +18644671055   \n",
       "\n",
       "    display_phone     distance  \n",
       "0  (864) 288-5259  8150.554706  \n",
       "1  (864) 467-1055  3879.396696  "
      ]
     },
     "execution_count": 10,
     "metadata": {},
     "output_type": "execute_result"
    }
   ],
   "source": [
    "sushi20 = pd.DataFrame(sushi_20['businesses'])\n",
    "sushi20.head(2)"
   ]
  },
  {
   "cell_type": "code",
   "execution_count": 11,
   "id": "4dfed487",
   "metadata": {
    "id": "4dfed487",
    "outputId": "d3502195-bdd1-4164-a91a-352053b85551"
   },
   "outputs": [
    {
     "data": {
      "text/html": [
       "<div>\n",
       "<style scoped>\n",
       "    .dataframe tbody tr th:only-of-type {\n",
       "        vertical-align: middle;\n",
       "    }\n",
       "\n",
       "    .dataframe tbody tr th {\n",
       "        vertical-align: top;\n",
       "    }\n",
       "\n",
       "    .dataframe thead th {\n",
       "        text-align: right;\n",
       "    }\n",
       "</style>\n",
       "<table border=\"1\" class=\"dataframe\">\n",
       "  <thead>\n",
       "    <tr style=\"text-align: right;\">\n",
       "      <th></th>\n",
       "      <th>id</th>\n",
       "      <th>alias</th>\n",
       "      <th>name</th>\n",
       "      <th>image_url</th>\n",
       "      <th>is_closed</th>\n",
       "      <th>url</th>\n",
       "      <th>review_count</th>\n",
       "      <th>categories</th>\n",
       "      <th>rating</th>\n",
       "      <th>coordinates</th>\n",
       "      <th>transactions</th>\n",
       "      <th>location</th>\n",
       "      <th>phone</th>\n",
       "      <th>display_phone</th>\n",
       "      <th>distance</th>\n",
       "      <th>price</th>\n",
       "    </tr>\n",
       "  </thead>\n",
       "  <tbody>\n",
       "    <tr>\n",
       "      <th>0</th>\n",
       "      <td>RGRk1ioORwm_FIX8PM732Q</td>\n",
       "      <td>konnichiwa-greenville</td>\n",
       "      <td>Konnichiwa</td>\n",
       "      <td>https://s3-media3.fl.yelpcdn.com/bphoto/p47H0_...</td>\n",
       "      <td>False</td>\n",
       "      <td>https://www.yelp.com/biz/konnichiwa-greenville...</td>\n",
       "      <td>57</td>\n",
       "      <td>[{'alias': 'sushi', 'title': 'Sushi Bars'}, {'...</td>\n",
       "      <td>4.0</td>\n",
       "      <td>{'latitude': 34.845952342825115, 'longitude': ...</td>\n",
       "      <td>[]</td>\n",
       "      <td>{'address1': '101 Falls Park Dr', 'address2': ...</td>\n",
       "      <td>+18642524436</td>\n",
       "      <td>(864) 252-4436</td>\n",
       "      <td>4108.206391</td>\n",
       "      <td>NaN</td>\n",
       "    </tr>\n",
       "    <tr>\n",
       "      <th>1</th>\n",
       "      <td>2jXS4oZkMhAONtd2j7L5Yg</td>\n",
       "      <td>chef-21-sushi-burger-and-korean-bbq-greenville</td>\n",
       "      <td>Chef 21 Sushi Burger &amp; Korean BBQ</td>\n",
       "      <td>https://s3-media3.fl.yelpcdn.com/bphoto/DRC19Q...</td>\n",
       "      <td>False</td>\n",
       "      <td>https://www.yelp.com/biz/chef-21-sushi-burger-...</td>\n",
       "      <td>11</td>\n",
       "      <td>[{'alias': 'korean', 'title': 'Korean'}, {'ali...</td>\n",
       "      <td>4.5</td>\n",
       "      <td>{'latitude': 34.84775563800962, 'longitude': -...</td>\n",
       "      <td>[]</td>\n",
       "      <td>{'address1': '500 E McBee Ave', 'address2': 'S...</td>\n",
       "      <td>+18642633018</td>\n",
       "      <td>(864) 263-3018</td>\n",
       "      <td>3419.093689</td>\n",
       "      <td>NaN</td>\n",
       "    </tr>\n",
       "    <tr>\n",
       "      <th>2</th>\n",
       "      <td>babpQQHQSGjVxS1Li7Q2lA</td>\n",
       "      <td>otto-izakaya-downtown-greenville</td>\n",
       "      <td>Otto Izakaya - Downtown</td>\n",
       "      <td>https://s3-media1.fl.yelpcdn.com/bphoto/wkiY2M...</td>\n",
       "      <td>False</td>\n",
       "      <td>https://www.yelp.com/biz/otto-izakaya-downtown...</td>\n",
       "      <td>166</td>\n",
       "      <td>[{'alias': 'izakaya', 'title': 'Izakaya'}, {'a...</td>\n",
       "      <td>4.0</td>\n",
       "      <td>{'latitude': 34.84428, 'longitude': -82.406}</td>\n",
       "      <td>[delivery, restaurant_reservation]</td>\n",
       "      <td>{'address1': '802 S Main St', 'address2': '', ...</td>\n",
       "      <td>+18645685880</td>\n",
       "      <td>(864) 568-5880</td>\n",
       "      <td>4269.838700</td>\n",
       "      <td>$$</td>\n",
       "    </tr>\n",
       "  </tbody>\n",
       "</table>\n",
       "</div>"
      ],
      "text/plain": [
       "                       id                                           alias  \\\n",
       "0  RGRk1ioORwm_FIX8PM732Q                           konnichiwa-greenville   \n",
       "1  2jXS4oZkMhAONtd2j7L5Yg  chef-21-sushi-burger-and-korean-bbq-greenville   \n",
       "2  babpQQHQSGjVxS1Li7Q2lA                otto-izakaya-downtown-greenville   \n",
       "\n",
       "                                name  \\\n",
       "0                         Konnichiwa   \n",
       "1  Chef 21 Sushi Burger & Korean BBQ   \n",
       "2            Otto Izakaya - Downtown   \n",
       "\n",
       "                                           image_url  is_closed  \\\n",
       "0  https://s3-media3.fl.yelpcdn.com/bphoto/p47H0_...      False   \n",
       "1  https://s3-media3.fl.yelpcdn.com/bphoto/DRC19Q...      False   \n",
       "2  https://s3-media1.fl.yelpcdn.com/bphoto/wkiY2M...      False   \n",
       "\n",
       "                                                 url  review_count  \\\n",
       "0  https://www.yelp.com/biz/konnichiwa-greenville...            57   \n",
       "1  https://www.yelp.com/biz/chef-21-sushi-burger-...            11   \n",
       "2  https://www.yelp.com/biz/otto-izakaya-downtown...           166   \n",
       "\n",
       "                                          categories  rating  \\\n",
       "0  [{'alias': 'sushi', 'title': 'Sushi Bars'}, {'...     4.0   \n",
       "1  [{'alias': 'korean', 'title': 'Korean'}, {'ali...     4.5   \n",
       "2  [{'alias': 'izakaya', 'title': 'Izakaya'}, {'a...     4.0   \n",
       "\n",
       "                                         coordinates  \\\n",
       "0  {'latitude': 34.845952342825115, 'longitude': ...   \n",
       "1  {'latitude': 34.84775563800962, 'longitude': -...   \n",
       "2       {'latitude': 34.84428, 'longitude': -82.406}   \n",
       "\n",
       "                         transactions  \\\n",
       "0                                  []   \n",
       "1                                  []   \n",
       "2  [delivery, restaurant_reservation]   \n",
       "\n",
       "                                            location         phone  \\\n",
       "0  {'address1': '101 Falls Park Dr', 'address2': ...  +18642524436   \n",
       "1  {'address1': '500 E McBee Ave', 'address2': 'S...  +18642633018   \n",
       "2  {'address1': '802 S Main St', 'address2': '', ...  +18645685880   \n",
       "\n",
       "    display_phone     distance price  \n",
       "0  (864) 252-4436  4108.206391   NaN  \n",
       "1  (864) 263-3018  3419.093689   NaN  \n",
       "2  (864) 568-5880  4269.838700    $$  "
      ]
     },
     "metadata": {},
     "output_type": "display_data"
    },
    {
     "data": {
      "text/html": [
       "<div>\n",
       "<style scoped>\n",
       "    .dataframe tbody tr th:only-of-type {\n",
       "        vertical-align: middle;\n",
       "    }\n",
       "\n",
       "    .dataframe tbody tr th {\n",
       "        vertical-align: top;\n",
       "    }\n",
       "\n",
       "    .dataframe thead th {\n",
       "        text-align: right;\n",
       "    }\n",
       "</style>\n",
       "<table border=\"1\" class=\"dataframe\">\n",
       "  <thead>\n",
       "    <tr style=\"text-align: right;\">\n",
       "      <th></th>\n",
       "      <th>id</th>\n",
       "      <th>alias</th>\n",
       "      <th>name</th>\n",
       "      <th>image_url</th>\n",
       "      <th>is_closed</th>\n",
       "      <th>url</th>\n",
       "      <th>review_count</th>\n",
       "      <th>categories</th>\n",
       "      <th>rating</th>\n",
       "      <th>coordinates</th>\n",
       "      <th>transactions</th>\n",
       "      <th>location</th>\n",
       "      <th>phone</th>\n",
       "      <th>display_phone</th>\n",
       "      <th>distance</th>\n",
       "      <th>price</th>\n",
       "    </tr>\n",
       "  </thead>\n",
       "  <tbody>\n",
       "    <tr>\n",
       "      <th>37</th>\n",
       "      <td>sQsiNhUVhsH23jkAVo7DTA</td>\n",
       "      <td>the-orient-on-main-greenville</td>\n",
       "      <td>The Orient on Main</td>\n",
       "      <td>https://s3-media2.fl.yelpcdn.com/bphoto/D9GiV3...</td>\n",
       "      <td>False</td>\n",
       "      <td>https://www.yelp.com/biz/the-orient-on-main-gr...</td>\n",
       "      <td>105</td>\n",
       "      <td>[{'alias': 'japanese', 'title': 'Japanese'}, {...</td>\n",
       "      <td>3.5</td>\n",
       "      <td>{'latitude': 34.8505831538167, 'longitude': -8...</td>\n",
       "      <td>[delivery, pickup]</td>\n",
       "      <td>{'address1': '4 S Main St', 'address2': '', 'a...</td>\n",
       "      <td>+18647876241</td>\n",
       "      <td>(864) 787-6241</td>\n",
       "      <td>3969.854159</td>\n",
       "      <td>$$</td>\n",
       "    </tr>\n",
       "    <tr>\n",
       "      <th>38</th>\n",
       "      <td>fjpQXddk1h5vGtS9kLjoJg</td>\n",
       "      <td>red-bowl-greenville-greenville</td>\n",
       "      <td>Red Bowl - Greenville</td>\n",
       "      <td>https://s3-media1.fl.yelpcdn.com/bphoto/Y6YbbE...</td>\n",
       "      <td>False</td>\n",
       "      <td>https://www.yelp.com/biz/red-bowl-greenville-g...</td>\n",
       "      <td>143</td>\n",
       "      <td>[{'alias': 'japanese', 'title': 'Japanese'}, {...</td>\n",
       "      <td>3.0</td>\n",
       "      <td>{'latitude': 34.841634, 'longitude': -82.3633539}</td>\n",
       "      <td>[delivery]</td>\n",
       "      <td>{'address1': '27 S Pleasantburg Dr', 'address2...</td>\n",
       "      <td>+18642717977</td>\n",
       "      <td>(864) 271-7977</td>\n",
       "      <td>929.429061</td>\n",
       "      <td>$$</td>\n",
       "    </tr>\n",
       "    <tr>\n",
       "      <th>39</th>\n",
       "      <td>mq6PUElN3s0ZzyaRiem04g</td>\n",
       "      <td>miyoko-japanese-steakhouse-travelers-rest-2</td>\n",
       "      <td>Miyoko Japanese Steakhouse</td>\n",
       "      <td>https://s3-media4.fl.yelpcdn.com/bphoto/IrQ_Bz...</td>\n",
       "      <td>False</td>\n",
       "      <td>https://www.yelp.com/biz/miyoko-japanese-steak...</td>\n",
       "      <td>17</td>\n",
       "      <td>[{'alias': 'japanese', 'title': 'Japanese'}, {...</td>\n",
       "      <td>3.5</td>\n",
       "      <td>{'latitude': 34.96322, 'longitude': -82.43067}</td>\n",
       "      <td>[delivery]</td>\n",
       "      <td>{'address1': '2 Benton Rd', 'address2': None, ...</td>\n",
       "      <td>+18646106110</td>\n",
       "      <td>(864) 610-6110</td>\n",
       "      <td>15767.722784</td>\n",
       "      <td>NaN</td>\n",
       "    </tr>\n",
       "  </tbody>\n",
       "</table>\n",
       "</div>"
      ],
      "text/plain": [
       "                        id                                        alias  \\\n",
       "37  sQsiNhUVhsH23jkAVo7DTA                the-orient-on-main-greenville   \n",
       "38  fjpQXddk1h5vGtS9kLjoJg               red-bowl-greenville-greenville   \n",
       "39  mq6PUElN3s0ZzyaRiem04g  miyoko-japanese-steakhouse-travelers-rest-2   \n",
       "\n",
       "                          name  \\\n",
       "37          The Orient on Main   \n",
       "38       Red Bowl - Greenville   \n",
       "39  Miyoko Japanese Steakhouse   \n",
       "\n",
       "                                            image_url  is_closed  \\\n",
       "37  https://s3-media2.fl.yelpcdn.com/bphoto/D9GiV3...      False   \n",
       "38  https://s3-media1.fl.yelpcdn.com/bphoto/Y6YbbE...      False   \n",
       "39  https://s3-media4.fl.yelpcdn.com/bphoto/IrQ_Bz...      False   \n",
       "\n",
       "                                                  url  review_count  \\\n",
       "37  https://www.yelp.com/biz/the-orient-on-main-gr...           105   \n",
       "38  https://www.yelp.com/biz/red-bowl-greenville-g...           143   \n",
       "39  https://www.yelp.com/biz/miyoko-japanese-steak...            17   \n",
       "\n",
       "                                           categories  rating  \\\n",
       "37  [{'alias': 'japanese', 'title': 'Japanese'}, {...     3.5   \n",
       "38  [{'alias': 'japanese', 'title': 'Japanese'}, {...     3.0   \n",
       "39  [{'alias': 'japanese', 'title': 'Japanese'}, {...     3.5   \n",
       "\n",
       "                                          coordinates        transactions  \\\n",
       "37  {'latitude': 34.8505831538167, 'longitude': -8...  [delivery, pickup]   \n",
       "38  {'latitude': 34.841634, 'longitude': -82.3633539}          [delivery]   \n",
       "39     {'latitude': 34.96322, 'longitude': -82.43067}          [delivery]   \n",
       "\n",
       "                                             location         phone  \\\n",
       "37  {'address1': '4 S Main St', 'address2': '', 'a...  +18647876241   \n",
       "38  {'address1': '27 S Pleasantburg Dr', 'address2...  +18642717977   \n",
       "39  {'address1': '2 Benton Rd', 'address2': None, ...  +18646106110   \n",
       "\n",
       "     display_phone      distance price  \n",
       "37  (864) 787-6241   3969.854159    $$  \n",
       "38  (864) 271-7977    929.429061    $$  \n",
       "39  (864) 610-6110  15767.722784   NaN  "
      ]
     },
     "metadata": {},
     "output_type": "display_data"
    }
   ],
   "source": [
    "#now concatenate all pages\n",
    "all_sushi = pd.concat([sushi0, sushi20],\n",
    "                      ignore_index=True)\n",
    "display(all_sushi.head(3), all_sushi.tail(3))"
   ]
  },
  {
   "cell_type": "markdown",
   "id": "2c7aa00e",
   "metadata": {
    "id": "2c7aa00e"
   },
   "source": [
    "The final dataframe should have 40 entries"
   ]
  },
  {
   "cell_type": "code",
   "execution_count": 13,
   "id": "3V-u3cqtUWa9",
   "metadata": {
    "id": "3V-u3cqtUWa9"
   },
   "outputs": [],
   "source": [
    "# save the results to records-style json file with appropriate name\n",
    "all_sushi.to_json(\"Data/yelp-search-sushi-greenville.json\", orient='records')"
   ]
  }
 ],
 "metadata": {
  "colab": {
   "collapsed_sections": [],
   "name": "SOLUTION Using the Yelp API (Practice).ipynb",
   "provenance": []
  },
  "kernelspec": {
   "display_name": "Python (dojo-env)",
   "language": "python",
   "name": "dojo-env"
  },
  "language_info": {
   "codemirror_mode": {
    "name": "ipython",
    "version": 3
   },
   "file_extension": ".py",
   "mimetype": "text/x-python",
   "name": "python",
   "nbconvert_exporter": "python",
   "pygments_lexer": "ipython3",
   "version": "3.9.15"
  },
  "toc": {
   "base_numbering": 1,
   "nav_menu": {},
   "number_sections": true,
   "sideBar": true,
   "skip_h1_title": false,
   "title_cell": "Table of Contents",
   "title_sidebar": "Contents",
   "toc_cell": false,
   "toc_position": {},
   "toc_section_display": true,
   "toc_window_display": false
  }
 },
 "nbformat": 4,
 "nbformat_minor": 5
}
